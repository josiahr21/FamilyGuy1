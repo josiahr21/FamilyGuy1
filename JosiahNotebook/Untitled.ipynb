{
 "cells": [
  {
   "cell_type": "markdown",
   "id": "9b771bbd-983d-4216-bafd-abaf7c645d82",
   "metadata": {},
   "source": [
    "I want to look at Family Guy music"
   ]
  },
  {
   "cell_type": "code",
   "execution_count": 2,
   "id": "18a1b0f5-5b4b-43d4-8d60-1f5f4f89f999",
   "metadata": {},
   "outputs": [],
   "source": [
    "import spacy"
   ]
  },
  {
   "cell_type": "code",
   "execution_count": 4,
   "id": "3477f379-4fc2-4d90-896e-b1fc67364e43",
   "metadata": {
    "scrolled": true
   },
   "outputs": [],
   "source": [
    "#nlp = spacy.cli.download(\"en_core_web_lg\")\n",
    "nlp = spacy.load('en_core_web_lg')"
   ]
  },
  {
   "cell_type": "code",
   "execution_count": null,
   "id": "056dbb8d-2ac5-4be5-a837-737bd5fea4a2",
   "metadata": {},
   "outputs": [],
   "source": []
  }
 ],
 "metadata": {
  "kernelspec": {
   "display_name": "Python 3 (ipykernel)",
   "language": "python",
   "name": "python3"
  },
  "language_info": {
   "codemirror_mode": {
    "name": "ipython",
    "version": 3
   },
   "file_extension": ".py",
   "mimetype": "text/x-python",
   "name": "python",
   "nbconvert_exporter": "python",
   "pygments_lexer": "ipython3",
   "version": "3.12.1"
  }
 },
 "nbformat": 4,
 "nbformat_minor": 5
}
