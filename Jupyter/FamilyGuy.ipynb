{
 "cells": [
  {
   "cell_type": "markdown",
   "id": "40f67921-6279-4722-8c6c-42f94d38bf4e",
   "metadata": {},
   "source": [
    "Transcript Files"
   ]
  },
  {
   "cell_type": "markdown",
   "id": "0748d7ed-a5fc-44f1-8442-cd7363f1411c",
   "metadata": {},
   "source": [
    "This will be updated but for the time being this is the temporary file"
   ]
  }
 ],
 "metadata": {
  "kernelspec": {
   "display_name": "Python 3 (ipykernel)",
   "language": "python",
   "name": "python3"
  },
  "language_info": {
   "codemirror_mode": {
    "name": "ipython",
    "version": 3
   },
   "file_extension": ".py",
   "mimetype": "text/x-python",
   "name": "python",
   "nbconvert_exporter": "python",
   "pygments_lexer": "ipython3",
   "version": "3.11.7"
  }
 },
 "nbformat": 4,
 "nbformat_minor": 5
}
